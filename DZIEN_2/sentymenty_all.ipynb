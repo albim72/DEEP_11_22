{
  "cells": [
    {
      "cell_type": "code",
      "source": [
        "import matplotlib.pyplot as plt\n",
        "import os\n",
        "import re\n",
        "import shutil\n",
        "import string\n",
        "import tensorflow as tf\n",
        "\n",
        "from tensorflow.keras import layers\n",
        "from tensorflow.keras import losses"
      ],
      "execution_count": 1,
      "outputs": [],
      "metadata": {
        "datalore": {
          "node_id": "D2K8ntEL0Il9Mn48cju75f",
          "type": "CODE",
          "hide_input_from_viewers": true,
          "hide_output_from_viewers": true
        },
        "id": "0amv7v_kapPi"
      }
    },
    {
      "cell_type": "code",
      "source": [
        "url = \"https://ai.stanford.edu/~amaas/data/sentiment/aclImdb_v1.tar.gz\"\n",
        "dataset = tf.keras.utils.get_file(\"aclImdb_v1\",url,untar=True,cache_dir='.',\n",
        "                                  cache_subdir='')\n",
        "\n",
        "dataset_dir = os.path.join(os.path.dirname(dataset),'aclImdb')"
      ],
      "execution_count": 2,
      "outputs": [
        {
          "output_type": "stream",
          "name": "stdout",
          "text": [
            "Downloading data from https://ai.stanford.edu/~amaas/data/sentiment/aclImdb_v1.tar.gz\n",
            "84125825/84125825 [==============================] - 6s 0us/step\n"
          ]
        }
      ],
      "metadata": {
        "datalore": {
          "node_id": "y5QkPCUBQEe7GdMVnKMc4q",
          "type": "CODE",
          "hide_input_from_viewers": true,
          "hide_output_from_viewers": true
        },
        "colab": {
          "base_uri": "https://localhost:8080/"
        },
        "id": "WQMt9s4JapPq",
        "outputId": "53744dff-05da-4b81-846f-62e84179301c"
      }
    },
    {
      "cell_type": "code",
      "source": [
        "os.listdir(dataset_dir)"
      ],
      "execution_count": 3,
      "outputs": [
        {
          "output_type": "execute_result",
          "data": {
            "text/plain": [
              "['train', 'imdb.vocab', 'README', 'test', 'imdbEr.txt']"
            ]
          },
          "metadata": {},
          "execution_count": 3
        }
      ],
      "metadata": {
        "datalore": {
          "node_id": "mzz0SMj33ZX6RBj6fb6jvm",
          "type": "CODE",
          "hide_input_from_viewers": true,
          "hide_output_from_viewers": true
        },
        "colab": {
          "base_uri": "https://localhost:8080/"
        },
        "id": "nNlZVV-qapPx",
        "outputId": "99702bc3-2402-4173-f084-f222106dfbf4"
      }
    },
    {
      "cell_type": "code",
      "source": [
        "train_dir = os.path.join(dataset_dir,'train')\n",
        "os.listdir(train_dir)"
      ],
      "execution_count": 4,
      "outputs": [
        {
          "output_type": "execute_result",
          "data": {
            "text/plain": [
              "['unsup',\n",
              " 'labeledBow.feat',\n",
              " 'urls_unsup.txt',\n",
              " 'unsupBow.feat',\n",
              " 'pos',\n",
              " 'urls_neg.txt',\n",
              " 'urls_pos.txt',\n",
              " 'neg']"
            ]
          },
          "metadata": {},
          "execution_count": 4
        }
      ],
      "metadata": {
        "datalore": {
          "node_id": "1PIvJ4W2xhykJ042bqVQgS",
          "type": "CODE",
          "hide_input_from_viewers": true,
          "hide_output_from_viewers": true
        },
        "colab": {
          "base_uri": "https://localhost:8080/"
        },
        "id": "9TYjjRg9apP3",
        "outputId": "3b7909a8-8530-49e7-b71e-ea382d7f586a"
      }
    },
    {
      "cell_type": "code",
      "source": [
        "sample_file = os.path.join(train_dir,'pos/1181_9.txt')\n",
        "with open(sample_file) as f:\n",
        "    print(f.read())"
      ],
      "execution_count": 5,
      "outputs": [
        {
          "output_type": "stream",
          "name": "stdout",
          "text": [
            "Rachel Griffiths writes and directs this award winning short film. A heartwarming story about coping with grief and cherishing the memory of those we've loved and lost. Although, only 15 minutes long, Griffiths manages to capture so much emotion and truth onto film in the short space of time. Bud Tingwell gives a touching performance as Will, a widower struggling to cope with his wife's death. Will is confronted by the harsh reality of loneliness and helplessness as he proceeds to take care of Ruth's pet cow, Tulip. The film displays the grief and responsibility one feels for those they have loved and lost. Good cinematography, great direction, and superbly acted. It will bring tears to all those who have lost a loved one, and survived.\n"
          ]
        }
      ],
      "metadata": {
        "datalore": {
          "node_id": "L8EIXF0bWPBaQR1yuZfV04",
          "type": "CODE",
          "hide_input_from_viewers": true,
          "hide_output_from_viewers": true
        },
        "colab": {
          "base_uri": "https://localhost:8080/"
        },
        "id": "PY3JM7z7apP_",
        "outputId": "ba3d3e8a-3218-428b-ecdb-80dbb117839d"
      }
    },
    {
      "cell_type": "code",
      "source": [
        "#ładowanie zbioru danych\n",
        "remove_dir = os.path.join(train_dir,'unsup')\n",
        "shutil.rmtree(remove_dir)"
      ],
      "execution_count": 6,
      "outputs": [],
      "metadata": {
        "datalore": {
          "node_id": "FXe85JVaC046Bb9VCA43G2",
          "type": "CODE",
          "hide_input_from_viewers": true,
          "hide_output_from_viewers": true
        },
        "id": "VkYRrXKIapQB"
      }
    },
    {
      "cell_type": "code",
      "source": [
        "batch_size = 32\n",
        "seed = 42\n",
        "raw_train_ds = tf.keras.utils.text_dataset_from_directory(\n",
        "    'aclImdb/train',\n",
        "    batch_size=batch_size,\n",
        "    validation_split=0.2,\n",
        "    subset='training',\n",
        "    seed=seed\n",
        "\n",
        ")"
      ],
      "execution_count": 7,
      "outputs": [
        {
          "output_type": "stream",
          "name": "stdout",
          "text": [
            "Found 25000 files belonging to 2 classes.\n",
            "Using 20000 files for training.\n"
          ]
        }
      ],
      "metadata": {
        "datalore": {
          "node_id": "vXHARXAmTK8cMfFZbvU4kz",
          "type": "CODE",
          "hide_input_from_viewers": true,
          "hide_output_from_viewers": true
        },
        "colab": {
          "base_uri": "https://localhost:8080/"
        },
        "id": "k9N_fkb0apQD",
        "outputId": "927d760e-e2c0-4a3e-e146-b7adc3884d8d"
      }
    },
    {
      "cell_type": "code",
      "source": [
        "for text_batch, label_batch in raw_train_ds.take(1):\n",
        "  for i in range(3):\n",
        "    print(f\"recenzja: {text_batch.numpy()[i]}\")\n",
        "    print(f\"etykieta: {label_batch.numpy()[i]}\")\n",
        "print(f\"etykieta 0 to recenzja: {raw_train_ds.class_names[0]}\")\n",
        "print(f\"etykieta 1 to recenzja: {raw_train_ds.class_names[1]}\")\n",
        "\n",
        "#dane walidacyjne i testowe\n",
        "raw_val_ds = tf.keras.utils.text_dataset_from_directory(\n",
        "    'aclImdb/train',\n",
        "    batch_size=batch_size,\n",
        "    validation_split=0.2,\n",
        "    subset='validation',\n",
        "    seed=seed\n",
        "\n",
        ")\n",
        "\n",
        "raw_test_ds = tf.keras.utils.text_dataset_from_directory(\n",
        "    'aclImdb/test',\n",
        "    batch_size=batch_size\n",
        "    \n",
        ")\n",
        "\n",
        "#przygotowanie zbioru danych do szkolenia....\n",
        "def custom_standarization(input_data):\n",
        "  lowercase = tf.strings.lower(input_data)\n",
        "  stripped_html = tf.strings.regex_replace(lowercase,'<br />',' ')\n",
        "  return tf.strings.regex_replace(stripped_html,'[%s]' %re.escape(string.punctuation),'')\n",
        "\n",
        "max_features = 10000\n",
        "sequence_length = 250\n",
        "\n",
        "vectorize_layer = layers.TextVectorization(\n",
        "    standardize = custom_standarization,\n",
        "    max_tokens = max_features,\n",
        "    output_mode = 'int',\n",
        "    output_sequence_length = sequence_length\n",
        ")\n",
        "\n",
        "train_text = raw_train_ds.map(lambda x,y:x)\n",
        "vectorize_layer.adapt(train_text)\n",
        "\n",
        "def vectorize_text(text,label):\n",
        "  text=tf.expand_dims(text,-1)\n",
        "  return vectorize_layer(text), label\n",
        "\n",
        "\n",
        "text_batch,label_batch = next(iter(raw_train_ds))\n",
        "first_review, first_label = text_batch[0], label_batch[0]\n",
        "print(f\"recenzja: {first_review}\")\n",
        "print(f\"etykieta: {raw_train_ds.class_names[first_label]}\")\n",
        "print(f\"Zwektoryzowana recenzja: {vectorize_text(first_review,first_label)}\")\n",
        "\n",
        "print(f\"1287 --> {vectorize_layer.get_vocabulary()[1287]}\")\n",
        "print(f\"313 --> {vectorize_layer.get_vocabulary()[313]}\")"
      ],
      "metadata": {
        "colab": {
          "base_uri": "https://localhost:8080/"
        },
        "id": "ts7s8zk3bu3Q",
        "outputId": "5fdea0a2-ba2d-4f91-aa8d-6f65fed9c131"
      },
      "execution_count": 9,
      "outputs": [
        {
          "output_type": "stream",
          "name": "stdout",
          "text": [
            "recenzja: b'Belmondo is a tough cop. He goes after a big-time drug dealer (played by Henry Silva, normally a great villain - see \"Sharky\\'s Machine\"; but here he is clearly dubbed, and because of that he lacks his usual charisma). He goes to the scuzziest places of Paris and Marseilles, asks for some names, beats up some people, gets the names, goes to more scuzzy places, asks for more names, beats up more people, etc. The whole movie is punch after punch after punch. It seems that the people who made it had no other ambition than to create the French equivalent of \"Dirty Harry\". Belmondo, who was 50 here, does perform some good stunts at the beginning; apart from those, \"Le Marginal\" is a violent, episodic, trite, shallow and forgettable cop movie. (*1/2)'\n",
            "etykieta: 0\n",
            "recenzja: b'Wow. The only people reviewing this positively are the Carpenter apologists. I know a lot of those. The guys that\\'ll watch John Carpenter squat on celluloid and pinch out a movie and proclaim it a masterwork of horror. This \"movie\" is utter crap. It looks and sounds like a porno (good lord, the soundtrack is awful...), and has sub-par porn acting, which is shocking, because normally Ron Perlman is really a very good actor. I honestly have no idea what Carpenter was thinking when making this. Most likely \"Beans, beans, beans..\" until somebody fed him and rolled him up into a blanket for the day... They say nothing about the abortion debate whatsoever, when they could have had a very interesting central theme (how do religious zealot anti-abortionists feel when it\\'s the devil\\'s baby?) but instead they chose to have Ron Perlman and his terribly acted kids kill a bunch of people and have the horribly cast doctors try to calm the hysterically bad pregnant girl. Not a single person from this episode or what have you should come away unscathed. It\\'s just awful. Like, Plan 9 From Outerspace awful. Like, good god please would somebody turn it off before I soil myself awful. Try watching this and The Thing in the same day and your mind will implode.'\n",
            "etykieta: 0\n",
            "recenzja: b'Even though it has one of the standard \"Revenge Price Plots,\" this film is my favorite of Vincent Price\\'s work. Gallico has that quality that is missing in so many horror film characters- likeability. When you watch it, you feel for him, you feel his frustration, the injustices against him, and you cheer him on when he goes for vengeance, even though he frightens you a little with his original fury. As the film goes on, his character becomes tragic. He\\'s committed his murder, but now he must kill to cover that up. And again to cover that one up. And again... your stomach sinks with his soul as it goes down its spiral- like watching a beloved brother turn into a hood. Even if the revenge story is of old, the plot devices themselves are original- Gallico uses his tricks to kill in more and more inventive ways. A shame this one isn\\'t available for home veiwing.'\n",
            "etykieta: 1\n",
            "etykieta 0 to recenzja: neg\n",
            "etykieta 1 to recenzja: pos\n",
            "Found 25000 files belonging to 2 classes.\n",
            "Using 5000 files for validation.\n",
            "Found 25000 files belonging to 2 classes.\n",
            "recenzja: b'Every scene was put together perfectly.This movie had a wonderful cast and crew. I mean, how can you have a bad movie with Robert Downey Jr. in it,none have and ever will exist. He has the ability to brighten up any movie with his amazing talent.This movie was perfect! I saw this movie sitting all alone on a movie shelf in \"Blockbuster\" and like it was calling out to me,I couldn\\'t resist picking it up and bringing it home with me. You can call me a sappy romantic, but this movie just touched my heart, not to mention made me laugh with pleasure at the same time. Even though it made me cry,I admit, at the end, the whole movie just brightened up my outlook on life thereafter.I suggested to my horror, action, and pure humor movie buff of a brother,who absolutely adored this movie. This is a movie with a good sense of feeling.It could make you laugh out loud, touch your heart, make you fall in love,and enjoy your life.Every time you purposefully walk past this movie, just be aware that you are consciously making the choice to live and feel this inspiring movie.Who knows? What if it could really happen to you?, and keep your mind open to the mystical wonders of life.'\n",
            "etykieta: pos\n",
            "Zwektoryzowana recenzja: (<tf.Tensor: shape=(1, 250), dtype=int64, numpy=\n",
            "array([[ 165,  134,   13,  268,  281,    1,   17,   66,    4,  386,  173,\n",
            "           3, 1037,   10,  380,   87,   68,   22,   25,    4,   80,   17,\n",
            "          16,  639, 5838, 1782,    8,    1,   25,    3,  121,   76, 1790,\n",
            "          27,   43,    2, 1220,    6,    1,   56,   97,   17,   16,   24,\n",
            "         463,    1,   17,   13,  397,   10,  208,   11,   17, 1218,   30,\n",
            "         579,   20,    4,   17, 4141,    8, 2651,    3,   38,    9,   13,\n",
            "        2787,   44,    6,    1,  403, 4873, 3629,    9,   56,    3, 2307,\n",
            "           9,  345,   16,   69,   22,   68,  675,   69,    4, 4447,  736,\n",
            "          18,   11,   17,   40, 2727,   54,  526,   21,    6,  750,   90,\n",
            "          69,  472,   16, 1673,   31,    2,  164,   58,   53,  147,    9,\n",
            "          90,   69,    1,  951,   31,    2,  124,    2,  211,   17,   40,\n",
            "           1,   56,   54,    1,   20,  116,    1, 5162,    6,   54,  191,\n",
            "         216,    3, 1005,  474,   17, 4259,    5,    4,    1,  409,    1,\n",
            "          11,   17,   11,    7,    4,   17,   16,    4,   49,  271,    5,\n",
            "           1,   98,   96,   22,  472,   44, 1306, 1166,  123,  526,   96,\n",
            "          22,  759,    8,    1,  347,  123,    1,   58,   22,    1, 1145,\n",
            "         491,   11,   17,   40,   26, 1918,   12,   22,   23,    1,  249,\n",
            "           2, 1074,    6,  419,    3,  232,   11, 3603,    1,  682,   48,\n",
            "          45,    9,   98,   62,  562,    6,   22,    3,  372,  123,  339,\n",
            "         959,    6,    2, 6614, 3536,    5,  116,    0,    0,    0,    0,\n",
            "           0,    0,    0,    0,    0,    0,    0,    0,    0,    0,    0,\n",
            "           0,    0,    0,    0,    0,    0,    0,    0,    0,    0,    0,\n",
            "           0,    0,    0,    0,    0,    0,    0,    0]])>, <tf.Tensor: shape=(), dtype=int32, numpy=1>)\n",
            "1287 --> silent\n",
            "313 --> night\n"
          ]
        }
      ]
    },
    {
      "cell_type": "code",
      "source": [
        "train_ds = raw_train_ds.map(vectorize_text)\n",
        "val_ds = raw_val_ds.map(vectorize_text)\n",
        "test_ds = raw_test_ds.map(vectorize_text)"
      ],
      "metadata": {
        "id": "bBE7ybN0c3zx"
      },
      "execution_count": 10,
      "outputs": []
    },
    {
      "cell_type": "code",
      "source": [
        "#konfiguracja zbioru pod kątem wydajności\n",
        "AUTOTUNE = tf.data.AUTOTUNE\n",
        "train_ds = train_ds.cache().prefetch(buffer_size=AUTOTUNE)\n",
        "val_ds = val_ds.cache().prefetch(buffer_size=AUTOTUNE)\n",
        "test_ds = test_ds.cache().prefetch(buffer_size=AUTOTUNE)"
      ],
      "metadata": {
        "id": "CdgLfq-rdbrU"
      },
      "execution_count": 11,
      "outputs": []
    },
    {
      "cell_type": "code",
      "source": [],
      "metadata": {
        "id": "NRxvfvENd71n"
      },
      "execution_count": null,
      "outputs": []
    }
  ],
  "metadata": {
    "kernelspec": {
      "display_name": "Python",
      "language": "python",
      "name": "python"
    },
    "datalore": {
      "version": 1,
      "computation_mode": "JUPYTER",
      "package_manager": "pip",
      "base_environment": "default",
      "packages": []
    },
    "colab": {
      "provenance": []
    }
  },
  "nbformat": 4,
  "nbformat_minor": 0
}